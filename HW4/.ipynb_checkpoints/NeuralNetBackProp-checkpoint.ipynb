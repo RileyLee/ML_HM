{
 "cells": [
  {
   "cell_type": "code",
   "execution_count": 91,
   "metadata": {
    "collapsed": false
   },
   "outputs": [],
   "source": [
    "import numpy as np\n",
    "import matplotlib.pyplot\n",
    "import mnist\n",
    "import scipy\n",
    "import scipy.sparse.linalg\n",
    "import scipy.misc\n",
    "from scipy.sparse import csr_matrix\n",
    "from scipy.sparse import identity\n",
    "from numpy import linalg as LA\n",
    "import pdb"
   ]
  },
  {
   "cell_type": "code",
   "execution_count": 92,
   "metadata": {
    "collapsed": false
   },
   "outputs": [
    {
     "name": "stdout",
     "output_type": "stream",
     "text": [
      "MNIST loaded\n"
     ]
    }
   ],
   "source": [
    "trainX, trainY = mnist.load_mnist(\"training\", None, './MNIST');\n",
    "testX, testY = mnist.load_mnist(\"testing\", None, './MNIST');\n",
    "\n",
    "print(\"MNIST loaded\")"
   ]
  },
  {
   "cell_type": "code",
   "execution_count": 93,
   "metadata": {
    "collapsed": false
   },
   "outputs": [],
   "source": [
    "class PCA:\n",
    "    \n",
    "    def __init__(self):\n",
    "        self.sigma = 0;\n",
    "        \n",
    "    def load_train(self, trainX):\n",
    "        s = trainX.shape;\n",
    "        self.d = s[1] * s[2];\n",
    "        self.N = s[0];\n",
    "        self.X = np.reshape(trainX, (self.N, self.d));\n",
    "        print(\"PCA : Training data loaded...\")\n",
    "        \n",
    "    def compSigma(self):\n",
    "        self.Sigma = self.X.transpose().dot(self.X);\n",
    "        self.w, self.v = LA.eig(self.Sigma);\n",
    "        print(\"PCA : Sigma Computed...\")\n",
    "    \n",
    "    def decomposeInput(self, k):\n",
    "        weights = np.zeros((self.N, k));\n",
    "        for i in range(0, k):\n",
    "            weights[:, i] = np.reshape(self.X.dot(np.reshape(self.v[:,i], (784,1))), self.N);\n",
    "        print(\"PCA : Data decomposed to \" + str(k) + \" dimensions...\")\n",
    "        return weights\n",
    "    \n",
    "    def decompose(self, procdata, k):\n",
    "        weights = np.zeros((procdata.shape[0], k));\n",
    "        for i in range(0, k):\n",
    "            weights[:, i] = np.reshape(procdata.dot(np.reshape(self.v[:,i], (784,1))), procdata.shape[0]);\n",
    "        print(\"PCA : Input data decomposed to \" + str(k) + \" dimensions...\")\n",
    "        return weights"
   ]
  },
  {
   "cell_type": "code",
   "execution_count": 94,
   "metadata": {
    "collapsed": false
   },
   "outputs": [
    {
     "name": "stdout",
     "output_type": "stream",
     "text": [
      "PCA : Training data loaded...\n",
      "PCA : Sigma Computed...\n",
      "PCA : Data decomposed to 50 dimensions...\n",
      "PCA : Input data decomposed to 50 dimensions...\n"
     ]
    }
   ],
   "source": [
    "testX = np.reshape(testX, (testX.shape[0], model.d-1));\n",
    "model = PCA();\n",
    "model.load_train(trainX);\n",
    "model.compSigma();\n",
    "pca50Xtr = model.decomposeInput(50);\n",
    "pca50Xte = model.decompose(testX, 50);"
   ]
  },
  {
   "cell_type": "code",
   "execution_count": 100,
   "metadata": {
    "collapsed": false
   },
   "outputs": [],
   "source": [
    "class neuralnet:\n",
    "    def __init__(self):\n",
    "        self.nNeurons = 500;\n",
    "        self.nLayers = 2;\n",
    "    \n",
    "    def load_train(self, trainX, trainY):\n",
    "        s = trainX.shape;\n",
    "        self.d = s[1] + 1;\n",
    "        self.N = s[0];\n",
    "        self.K = np.max(trainY)\n",
    "        self.trainX = np.insert(trainX, 0, 1, axis=1);\n",
    "        \n",
    "        self.trainY1 = trainY;\n",
    "        self.trainY = np.zeros((self.N, self.K),dtype=np.float)\n",
    "        for i in range(0,self.K):\n",
    "            temp = np.reshape(np.array(trainY == i, dtype=float), (self.N, 1));\n",
    "            self.trainY[:,i] = np.asmatrix(np.reshape(temp, self.N))\n",
    "            \n",
    "        print(\"NN : Training data loaded...\")\n",
    "    \n",
    "    "
   ]
  },
  {
   "cell_type": "code",
   "execution_count": 101,
   "metadata": {
    "collapsed": false
   },
   "outputs": [
    {
     "name": "stdout",
     "output_type": "stream",
     "text": [
      "> <ipython-input-100-225c5f9c2cf5>(12)load_train()\n",
      "-> self.trainX = np.insert(trainX, 0, 1, axis=1);\n",
      "(Pdb) self.K\n",
      "9\n",
      "(Pdb) self.trainX = np.insert(trainX, 0, 1, axis=1);\n",
      "(Pdb) self.trainX\n",
      "array([[ 1.        , -6.49823509, -0.18608563, ..., -0.30844488,\n",
      "        -0.13003467,  0.09619227],\n",
      "       [ 1.        , -6.87647588,  3.66890807, ..., -0.70782296,\n",
      "        -0.46458555,  0.60747682],\n",
      "       [ 1.        , -3.14050316,  1.32359638, ...,  0.17904328,\n",
      "         0.62471039,  0.18149029],\n",
      "       ..., \n",
      "       [ 1.        , -4.90765948, -0.55734842, ...,  0.05520307,\n",
      "        -0.33681436, -0.77126752],\n",
      "       [ 1.        , -4.38714044,  1.28525711, ...,  0.09712062,\n",
      "        -0.05358304, -0.08994864],\n",
      "       [ 1.        , -4.59275751, -0.52432983, ..., -0.37706632,\n",
      "        -0.71514708, -0.04643821]])\n",
      "(Pdb) continue\n",
      "NN : Training data loaded...\n"
     ]
    }
   ],
   "source": [
    "NN = neuralnet();\n",
    "NN.load_train(pca50Xtr, trainY);"
   ]
  },
  {
   "cell_type": "code",
   "execution_count": null,
   "metadata": {
    "collapsed": true
   },
   "outputs": [],
   "source": []
  }
 ],
 "metadata": {
  "kernelspec": {
   "display_name": "Python 2",
   "language": "python",
   "name": "python2"
  },
  "language_info": {
   "codemirror_mode": {
    "name": "ipython",
    "version": 2
   },
   "file_extension": ".py",
   "mimetype": "text/x-python",
   "name": "python",
   "nbconvert_exporter": "python",
   "pygments_lexer": "ipython2",
   "version": "2.7.12"
  }
 },
 "nbformat": 4,
 "nbformat_minor": 1
}
