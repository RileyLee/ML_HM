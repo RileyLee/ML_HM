{
 "cells": [
  {
   "cell_type": "code",
   "execution_count": 91,
   "metadata": {
    "collapsed": false
   },
   "outputs": [],
   "source": [
    "import numpy as np\n",
    "import matplotlib.pyplot\n",
    "import mnist\n",
    "import scipy\n",
    "import scipy.sparse.linalg\n",
    "import scipy.misc\n",
    "from scipy.sparse import csr_matrix\n",
    "from scipy.sparse import identity\n",
    "from numpy import linalg as LA\n",
    "import pdb"
   ]
  },
  {
   "cell_type": "code",
   "execution_count": 92,
   "metadata": {
    "collapsed": false
   },
   "outputs": [
    {
     "name": "stdout",
     "output_type": "stream",
     "text": [
      "MNIST loaded\n"
     ]
    }
   ],
   "source": [
    "trainX, trainY = mnist.load_mnist(\"training\", None, './MNIST');\n",
    "testX, testY = mnist.load_mnist(\"testing\", None, './MNIST');\n",
    "\n",
    "print(\"MNIST loaded\")"
   ]
  },
  {
   "cell_type": "code",
   "execution_count": 93,
   "metadata": {
    "collapsed": false
   },
   "outputs": [],
   "source": [
    "class PCA:\n",
    "    \n",
    "    def __init__(self):\n",
    "        self.sigma = 0;\n",
    "        \n",
    "    def load_train(self, trainX):\n",
    "        s = trainX.shape;\n",
    "        self.d = s[1] * s[2];\n",
    "        self.N = s[0];\n",
    "        self.X = np.reshape(trainX, (self.N, self.d));\n",
    "        print(\"PCA : Training data loaded...\")\n",
    "        \n",
    "    def compSigma(self):\n",
    "        self.Sigma = self.X.transpose().dot(self.X);\n",
    "        self.w, self.v = LA.eig(self.Sigma);\n",
    "        print(\"PCA : Sigma Computed...\")\n",
    "    \n",
    "    def decomposeInput(self, k):\n",
    "        weights = np.zeros((self.N, k));\n",
    "        for i in range(0, k):\n",
    "            weights[:, i] = np.reshape(self.X.dot(np.reshape(self.v[:,i], (784,1))), self.N);\n",
    "        print(\"PCA : Data decomposed to \" + str(k) + \" dimensions...\")\n",
    "        return weights\n",
    "    \n",
    "    def decompose(self, procdata, k):\n",
    "        weights = np.zeros((procdata.shape[0], k));\n",
    "        for i in range(0, k):\n",
    "            weights[:, i] = np.reshape(procdata.dot(np.reshape(self.v[:,i], (784,1))), procdata.shape[0]);\n",
    "        print(\"PCA : Input data decomposed to \" + str(k) + \" dimensions...\")\n",
    "        return weights"
   ]
  },
  {
   "cell_type": "code",
   "execution_count": 94,
   "metadata": {
    "collapsed": false
   },
   "outputs": [
    {
     "name": "stdout",
     "output_type": "stream",
     "text": [
      "PCA : Training data loaded...\n",
      "PCA : Sigma Computed...\n",
      "PCA : Data decomposed to 50 dimensions...\n",
      "PCA : Input data decomposed to 50 dimensions...\n"
     ]
    }
   ],
   "source": [
    "testX = np.reshape(testX, (testX.shape[0], model.d-1));\n",
    "model = PCA();\n",
    "model.load_train(trainX);\n",
    "model.compSigma();\n",
    "pca50Xtr = model.decomposeInput(50);\n",
    "pca50Xte = model.decompose(testX, 50);"
   ]
  },
  {
   "cell_type": "code",
   "execution_count": 198,
   "metadata": {
    "collapsed": false
   },
   "outputs": [],
   "source": [
    "class neuralnet:\n",
    "    def __init__(self, connect, nNeurons_FC):\n",
    "        self.connect = connect;\n",
    "        self.nNeurons_FC = nNeurons_FC;\n",
    "        self.nLayers = len(connect);\n",
    "        print(\"NN : Running Neural Net \", [connect[i] for i in range(self.nLayers)])\n",
    "    \n",
    "    def load_train(self, trainX, trainY):\n",
    "        s = trainX.shape;\n",
    "        self.d = s[1] + 1;\n",
    "        self.N = s[0];\n",
    "        self.K = np.max(trainY)+1\n",
    "        self.trainX = np.insert(trainX, 0, 1, axis=1);\n",
    "        \n",
    "        self.trainY1 = trainY;\n",
    "        self.trainY = np.zeros((self.N, self.K),dtype=np.float)\n",
    "        for i in range(0,self.K):\n",
    "            temp = np.reshape(np.array(trainY == i, dtype=float), (self.N, 1));\n",
    "            self.trainY[:,i] = np.asmatrix(np.reshape(temp, self.N))\n",
    "            \n",
    "        print(\"NN : Training data loaded...\")\n",
    "    \n",
    "    def init_net(self):\n",
    "        self.layers = [np.zeros((self.nNeurons_FC[0], self.d))];\n",
    "        for i in range(1,self.nLayers):\n",
    "            if self.connect[i] is \"FC\":\n",
    "                self.layers.append(np.zeros((self.nNeurons_FC[i], self.nNeurons_FC[i-1])));\n",
    "            else:\n",
    "                self.layers.append(np.zeros(0));\n",
    "        \n",
    "        self.layervals = []\n",
    "        for i in range(self.nLayers):\n",
    "            if self.connect[i] is \"LOSS\":\n",
    "                self.layervals.append(np.zeros(1));\n",
    "            else:\n",
    "                self.layervals.append(np.zeros((self.N, self.nNeurons_FC[i])));\n",
    "        print(\"NN : Neural Net initialized...\")\n",
    "    \n",
    "    def forward(self):\n",
    "        curval = self.trainX;\n",
    "        for i in range(self.nLayers):\n",
    "            if self.connect[i] is \"FC\":\n",
    "                curval = curval.dot(self.layers[i].transpose());\n",
    "                self.layervals[i] = curval\n",
    "            elif self.connect[i] is \"TANH\":\n",
    "                curval = np.tanh(curval);\n",
    "                self.layervals[i] = curval\n",
    "            elif self.connect[i] is \"LOSS\":\n",
    "                curval = (curval - self.trainY)*(curval - self.trainY);\n",
    "                curval = np.sum(curval, axis = 1);\n",
    "                self.layervals[i] = curval\n",
    "                self.loss = np.sum(curval);\n",
    "    \n",
    "    def compGradLoss(self):\n",
    "        \n",
    "        \n",
    "        print(\"NN : forwarded \" + str(self.nLayers) + \" layers...\")"
   ]
  },
  {
   "cell_type": "code",
   "execution_count": 199,
   "metadata": {
    "collapsed": false
   },
   "outputs": [
    {
     "name": "stdout",
     "output_type": "stream",
     "text": [
      "('NN : Running Neural Net ', ['FC', 'TANH', 'FC', 'LOSS'])\n",
      "NN : Training data loaded...\n",
      "NN : Neural Net initialized...\n",
      "NN : forwarded 4 layers...\n"
     ]
    }
   ],
   "source": [
    "connect = [\"FC\", \"TANH\", \"FC\", \"LOSS\"];\n",
    "nNeurons_FC = [500, 500, 10, 1];\n",
    "\n",
    "NN = neuralnet(connect, nNeurons_FC);\n",
    "\n",
    "NN.load_train(pca50Xtr, trainY);\n",
    "NN.init_net();\n",
    "NN.forward();"
   ]
  },
  {
   "cell_type": "code",
   "execution_count": 140,
   "metadata": {
    "collapsed": false
   },
   "outputs": [
    {
     "data": {
      "text/plain": [
       "(60000, 10)"
      ]
     },
     "execution_count": 140,
     "metadata": {},
     "output_type": "execute_result"
    }
   ],
   "source": [
    "NN.layervals[1].shape"
   ]
  },
  {
   "cell_type": "code",
   "execution_count": null,
   "metadata": {
    "collapsed": true
   },
   "outputs": [],
   "source": []
  }
 ],
 "metadata": {
  "kernelspec": {
   "display_name": "Python 2",
   "language": "python",
   "name": "python2"
  },
  "language_info": {
   "codemirror_mode": {
    "name": "ipython",
    "version": 2
   },
   "file_extension": ".py",
   "mimetype": "text/x-python",
   "name": "python",
   "nbconvert_exporter": "python",
   "pygments_lexer": "ipython2",
   "version": "2.7.12"
  }
 },
 "nbformat": 4,
 "nbformat_minor": 1
}
