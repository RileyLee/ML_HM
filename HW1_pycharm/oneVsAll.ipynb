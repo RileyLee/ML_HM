{
 "cells": [
  {
   "cell_type": "code",
   "execution_count": 1,
   "metadata": {
    "collapsed": false
   },
   "outputs": [],
   "source": [
    "import numpy as np\n",
    "import matplotlib\n",
    "import mnist\n",
    "import scipy\n",
    "import scipy.sparse.linalg\n",
    "from scipy.sparse import csr_matrix\n",
    "from scipy.sparse import identity\n",
    "import pdb"
   ]
  },
  {
   "cell_type": "code",
   "execution_count": 2,
   "metadata": {
    "collapsed": false
   },
   "outputs": [
    {
     "name": "stdout",
     "output_type": "stream",
     "text": [
      "MNIST loaded\n"
     ]
    }
   ],
   "source": [
    "trainX, trainY = mnist.load_mnist(\"training\", None, './MNIST');\n",
    "testX, testY = mnist.load_mnist(\"testing\", None, './MNIST');\n",
    "print(\"MNIST loaded\")"
   ]
  },
  {
   "cell_type": "code",
   "execution_count": 3,
   "metadata": {
    "collapsed": true
   },
   "outputs": [],
   "source": [
    "#trainX = trainX[0:100, :]\n",
    "#trainY = trainY[0:100]"
   ]
  },
  {
   "cell_type": "code",
   "execution_count": 4,
   "metadata": {
    "collapsed": false
   },
   "outputs": [],
   "source": [
    "class oneVsAll:\n",
    "    def __init__(self, lamda):\n",
    "        self.lamda = lamda;\n",
    "        self.weights = {};\n",
    "        \n",
    "    def load_data(self, string, ori_X, ori_Y):\n",
    "        self.trainY = ori_Y;\n",
    "        s = ori_X.shape;\n",
    "        self.d = s[1] * s[2] + 1;\n",
    "        self.n = self.d;\n",
    "        self.N = s[0];\n",
    "        self.X = np.reshape(ori_X, (self.N, self.d-1));\n",
    "        self.X = np.insert(self.X, 0, 1, axis=1);\n",
    "        self.Y = np.reshape(self.trainY, (self.N, 1))\n",
    "        print(\"Loading data \" + string + \" complete....\")\n",
    "\n",
    "    def makeY(self, val):\n",
    "        temp = np.array(self.Y == val, dtype=float);\n",
    "        self.Y = np.reshape(temp, (self.N, 1))\n",
    "        print(\"Classifying class \" + str(self.digit))\n",
    "    \n",
    "    def compWeightBatch(self):\n",
    "        idx_from = range(0, self.N, self.batchSize)\n",
    "        idx_to = idx_from[1:]\n",
    "        idx_to.extend([self.N])\n",
    "        self.w = np.zeros((self.n, 1), dtype=np.float);\n",
    "        for x in range(0, len(idx_from)):\n",
    "            sigma = np.dot(self.X[idx_from[x]:idx_to[x]].transpose(), self.X[idx_from[x]:idx_to[x]]);\n",
    "            self.A = np.linalg.inv(sigma + self.lamda * np.identity(self.n));\n",
    "            self.Ax = np.dot(self.A, self.X.transpose());\n",
    "            self.w += np.dot(self.Ax, self.Y);\n",
    "        self.weights[self.digit] = self.w;\n",
    "        \n",
    "    def compWeightA(self):\n",
    "        #pdb.set_trace()\n",
    "        sigma = self.X.transpose() * self.X;\n",
    "        self.A = np.linalg.inv(sigma + self.lamda * np.identity(self.n));\n",
    "        self.Ax = np.dot(self.A, self.X.transpose());\n",
    "        self.w = np.dot(self.Ax, self.Y);\n",
    "        self.weights[self.digit] = self.w;\n",
    "        \n",
    "    def compWeight(self):\n",
    "        #pdb.set_trace()\n",
    "        self.X = np.asmatrix(self.X);\n",
    "        sigma = self.X.transpose() * self.X;\n",
    "        Ident = np.identity(self.n);\n",
    "        Ident = np.asmatrix(Ident);\n",
    "        #pdb.set_trace()\n",
    "        self.A = np.linalg.inv(sigma + self.lamda * Ident);\n",
    "        \n",
    "        self.Ax = self.A * self.X.transpose();\n",
    "        self.w = self.Ax * self.Y;\n",
    "        self.weights[self.digit] = self.w;\n",
    "    \n",
    "    def multifit(self, batchSize):\n",
    "        self.batchSize = batchSize;\n",
    "        for self.digit in range(0,10):\n",
    "            model.makeY(self.digit);\n",
    "            model.compWeight();\n",
    "            \n",
    "    def predict(self):\n",
    "        self.predicted = np.zeros((self.N, 10), dtype=float);\n",
    "        for self.digit in range(0, 10):\n",
    "            weight = self.weights[self.digit];\n",
    "            self.predicted[:,self.digit] = np.reshape(np.dot(self.X, weight), self.N);\n",
    "        self.predLabel = np.argmax(self.predicted, axis=1);\n",
    "        \n",
    "    def eval01(self):\n",
    "        temp = (np.reshape(self.predLabel, (len(self.Y),1)) != np.reshape(self.Y, (len(self.Y),1))).astype(float)\n",
    "        self.loss01 = np.sum(temp) / len(self.Y);\n",
    "        print(\"0 / 1 loss : \" + str(self.loss01));\n",
    "    \n",
    "    def squareLoss(self):\n",
    "        \n",
    "        lttemp = np.reshape(np.float64(self.Y==0),(self.N, 1))\n",
    "        for i in range(1,10):\n",
    "            lttemp = np.concatenate([lttemp, np.reshape(np.float64(self.Y==i),(self.N, 1))], axis=1);\n",
    "        temp = lttemp - self.predicted\n",
    "        self.sqsum = np.sum(np.square(temp))/self.N\n",
    "        print(\"Square Loss : \" + str(self.sqsum))\n",
    "    \n",
    "    def genGaussFeatWeight(self, n):\n",
    "        self.n = n;\n",
    "        self.weight = np.random.randn(self.d, self.n);\n",
    "    \n",
    "    def randGaussFeatConv(self):\n",
    "        self.X = np.dot(self.X, self.weight);"
   ]
  },
  {
   "cell_type": "code",
   "execution_count": 5,
   "metadata": {
    "collapsed": false,
    "scrolled": true
   },
   "outputs": [
    {
     "name": "stdout",
     "output_type": "stream",
     "text": [
      "Loading data training complete....\n",
      "Classifying class 0\n",
      "Classifying class 1\n",
      "Classifying class 2\n",
      "Classifying class 3\n",
      "Classifying class 4\n",
      "Classifying class 5\n",
      "Classifying class 6\n",
      "Classifying class 7\n",
      "Classifying class 8\n",
      "Classifying class 9\n"
     ]
    }
   ],
   "source": [
    "model = oneVsAll(1.0);\n",
    "model.load_data(\"training\", trainX, trainY);\n",
    "model.multifit(500)\n",
    "model.predict()\n"
   ]
  },
  {
   "cell_type": "code",
   "execution_count": 6,
   "metadata": {
    "collapsed": false
   },
   "outputs": [
    {
     "name": "stdout",
     "output_type": "stream",
     "text": [
      "Training Dataset : \n",
      "0 / 1 loss : 0.860666666667\n",
      "Square Loss : 1.00369934176\n",
      "Testing Dataset : \n",
      "Loading data testing complete....\n",
      "0 / 1 loss : 0.8604\n",
      "Square Loss : 1.00748334948\n"
     ]
    }
   ],
   "source": [
    "print(\"Training Dataset : \")\n",
    "model.Y = trainY\n",
    "model.eval01()\n",
    "model.squareLoss()\n",
    "\n",
    "print(\"Testing Dataset : \")\n",
    "model.Y = testY\n",
    "model.load_data(\"testing\", testX, testY);\n",
    "model.predict()\n",
    "model.eval01()\n",
    "model.squareLoss()"
   ]
  },
  {
   "cell_type": "raw",
   "metadata": {},
   "source": [
    "print()"
   ]
  }
 ],
 "metadata": {
  "kernelspec": {
   "display_name": "Python 2",
   "language": "python",
   "name": "python2"
  },
  "language_info": {
   "codemirror_mode": {
    "name": "ipython",
    "version": 2
   },
   "file_extension": ".py",
   "mimetype": "text/x-python",
   "name": "python",
   "nbconvert_exporter": "python",
   "pygments_lexer": "ipython2",
   "version": "2.7.12"
  }
 },
 "nbformat": 4,
 "nbformat_minor": 1
}
