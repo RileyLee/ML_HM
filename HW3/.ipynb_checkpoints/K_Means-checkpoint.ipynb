{
 "cells": [
  {
   "cell_type": "code",
   "execution_count": 1,
   "metadata": {
    "collapsed": true
   },
   "outputs": [],
   "source": [
    "import numpy as np\n",
    "import matplotlib.pyplot\n",
    "import mnist\n",
    "import scipy\n",
    "import scipy.sparse.linalg\n",
    "import scipy.misc\n",
    "from scipy.sparse import csr_matrix\n",
    "from scipy.sparse import identity\n",
    "from scipy.spatial import distance\n",
    "from numpy import linalg as LA\n",
    "import random\n",
    "import pdb"
   ]
  },
  {
   "cell_type": "code",
   "execution_count": 2,
   "metadata": {
    "collapsed": false
   },
   "outputs": [
    {
     "name": "stdout",
     "output_type": "stream",
     "text": [
      "MNIST loaded\n"
     ]
    }
   ],
   "source": [
    "trainX, trainY = mnist.load_mnist(\"training\", None, './MNIST');\n",
    "testX, testY = mnist.load_mnist(\"testing\", None, './MNIST');\n",
    "print(\"MNIST loaded\")"
   ]
  },
  {
   "cell_type": "code",
   "execution_count": 11,
   "metadata": {
    "collapsed": true
   },
   "outputs": [],
   "source": [
    "class KMeans:\n",
    "    \n",
    "    def __init__(self, k):\n",
    "        self.sigma = 0;\n",
    "        self.K = k;\n",
    "        \n",
    "    def load_train(self, trainX):\n",
    "        s = trainX.shape;\n",
    "        self.n = s[1] * s[2];\n",
    "        self.N = s[0];\n",
    "        self.oriX = np.reshape(trainX, (self.N, self.n));\n",
    "        self.X = np.asmatrix(self.oriX);\n",
    "        self.d = self.n;\n",
    "        self.Y = np.zeros((self.N, 10),dtype=np.float)\n",
    "        print(\"Training data loaded...\")\n",
    "        \n",
    "    def compPCA(self):\n",
    "        self.Sigma = self.oriX.transpose().dot(self.oriX);\n",
    "        self.eigW, self.eigV = LA.eig(self.Sigma);\n",
    "        print(\"PCA Projection Computed...\")\n",
    "    \n",
    "    def projPCA(self, d):\n",
    "        self.d = d;\n",
    "        self.X = np.asmatrix(self.oriX) * np.asmatrix(self.eigV[:, 0:self.d]);\n",
    "        print(\"Convert from \" + str(self.n) + ' dimensions to ' + str(d))\n",
    "    \n",
    "    def sortToClass(self):\n",
    "        self.DistMat = distance.cdist(self.X, self.means, 'sqeuclidean');\n",
    "        self.sortedK = np.argmin(self.DistMat, axis = 1);\n",
    "        self.DistMin = np.min(self.DistMat, axis = 1);\n",
    "        #pdb.set_trace()\n",
    "        \n",
    "    def UpdateKmeans(self):\n",
    "        \n",
    "        for i in range(0,self.K):\n",
    "            self.kloss[i] = np.sum(self.DistMat[self.sortedK==i]);\n",
    "            pdb.set_trace()\n",
    "            self.means[i, :] = np.asmatrix(np.mean(self.X[self.sortedK==i, :], axis=0));\n",
    "        self.iter = self.iter + 1\n",
    "        self.iterLoss.append(np.sum(self.kloss));\n",
    "    \n",
    "    def printStatus(self):\n",
    "        print(\"Processing Iteration \" + str(self.iter));\n",
    "        print(\"\\t Total sum : \" + str(self.iterLoss[self.iter-1]))\n",
    "        \n",
    "    def initKMeans(self):\n",
    "        self.iter = 0;\n",
    "        self.iterLoss = [];\n",
    "        self.kloss = np.zeros(self.K);\n",
    "        self.means = np.asmatrix(np.zeros((self.K, self.d)));\n",
    "        for i in range(0, self.K):\n",
    "            idx = np.int(np.floor(random.uniform(0, 1) * self.N));\n",
    "            self.means[i, :] = self.X[idx, :];\n",
    "        t = np.linspace(0, 2 * np.pi, 20)\n",
    "        self.colorSet = np.cos(t)\n",
    "        print(\"Kmeans of \" + str(self.K) + \" classes initiated....\")\n",
    "        \n",
    "    def plotPts(self, percent, axis1, axis2):\n",
    "        n = np.int(1 / percent)\n",
    "        X = np.concatenate((self.X[range(0, self.N-1, n), axis1], self.X[range(0, self.N-1, n), axis2]), axis=1)\n",
    "        color = self.colorSet[self.sortedK[range(0, self.N-1, n)]]\n",
    "        plot = matplotlib.pyplot.scatter(X[:,0],X[:,1],c=color)\n",
    "        matplotlib.pyplot.show()\n",
    "        matplotlib.pyplot.savefig('foo.png', transparent = True)\n",
    "        pdb.set_trace()\n",
    "        "
   ]
  },
  {
   "cell_type": "code",
   "execution_count": null,
   "metadata": {
    "collapsed": false
   },
   "outputs": [
    {
     "name": "stdout",
     "output_type": "stream",
     "text": [
      "Training data loaded...\n",
      "PCA Projection Computed...\n",
      "Convert from 784 dimensions to 50\n",
      "Kmeans of 16 classes initiated....\n",
      "> <ipython-input-11-ede458c26e6a>(38)UpdateKmeans()\n",
      "-> self.means[i, :] = np.asmatrix(np.mean(self.X[self.sortedK==i, :], axis=0));\n",
      "(Pdb) self.kloss[0]\n",
      "6916588.2332319049\n",
      "(Pdb) self.sortedK\n",
      "array([ 2,  7, 14, ..., 10, 14,  1])\n",
      "(Pdb) np.sum(self.sortedK==0)\n",
      "5080\n",
      "(Pdb) np.find(self.sortedK==0)\n",
      "*** AttributeError: 'module' object has no attribute 'find'\n",
      "(Pdb) self.sortedK.find(0)\n",
      "*** AttributeError: 'numpy.ndarray' object has no attribute 'find'\n",
      "(Pdb) find(self.sortedK==0)\n",
      "*** NameError: name 'find' is not defined\n",
      "(Pdb) self.sortedK[0:100]\n",
      "array([ 2,  7, 14,  0, 15, 14, 12,  2, 12, 14, 10, 12,  3,  9, 12, 15, 14,\n",
      "        1, 14,  1, 14,  7, 14,  0,  0,  2, 10,  6, 13, 14, 11,  1,  9,  1,\n",
      "        8, 12,  8,  7, 14,  9, 12,  1, 15, 15, 11, 10, 11,  1, 11,  2,  6,\n",
      "        7, 13, 12, 15,  5,  7, 14, 13,  0, 14, 14,  8,  7, 14, 12,  8, 12,\n",
      "        0,  7, 12, 14, 12,  0, 13,  7, 12,  0,  0,  1,  2,  7,  0,  0, 13,\n",
      "        1,  3, 14,  7, 14,  9, 14, 14,  8,  1,  7, 15,  1, 13,  0])\n",
      "(Pdb) self.X[self.sortedK==i, :]\n",
      "matrix([[ -4.11968838e+00,  -2.87630313e+00,   2.33691984e+00, ...,\n",
      "          -2.91650231e-01,   5.09132566e-01,  -2.23933562e-01],\n",
      "        [ -4.05044710e+00,  -2.86809745e+00,   2.02651603e+00, ...,\n",
      "          -1.58245141e-01,   4.66490272e-01,  -1.43369719e-01],\n",
      "        [ -5.30588662e+00,  -1.03478044e+00,   1.11499054e+00, ...,\n",
      "          -2.13929522e-01,  -7.29902536e-01,  -4.85334143e-01],\n",
      "        ..., \n",
      "        [ -5.55925066e+00,   1.71846046e+00,   1.63403013e+00, ...,\n",
      "          -4.87797982e-02,  -4.67511604e-01,   4.12422057e-01],\n",
      "        [ -3.16891027e+00,  -2.57232898e+00,   1.65156595e+00, ...,\n",
      "          -5.81347466e-02,   5.50594852e-01,  -2.19534795e-03],\n",
      "        [ -2.19992420e+00,  -1.64678934e+00,   1.23825318e+00, ...,\n",
      "          -3.71193276e-01,   6.59147969e-01,   2.14291323e-02]])\n",
      "(Pdb) self.X[3,:]\n",
      "matrix([[-4.11968838, -2.87630313,  2.33691984,  0.95023082, -0.43748201,\n",
      "         -2.72078074, -1.16988587,  1.81441311, -0.45795975, -0.01931893,\n",
      "          1.70894294,  0.07974257,  1.07920927, -0.72247707,  0.61090421,\n",
      "         -0.15131105, -0.24170241,  0.55757902, -0.63676421,  0.50900807,\n",
      "          0.26788556,  0.46056878,  0.29958429,  0.45209928,  0.53330331,\n",
      "          0.10450975, -1.09165921,  0.56220177,  0.03525844, -0.47265503,\n",
      "          0.04593099,  0.24952381,  0.2579341 ,  0.51278745, -0.53080264,\n",
      "          0.34090271, -0.01503628,  0.02950284,  0.1808612 , -0.28310483,\n",
      "          0.16317139, -0.1875834 ,  0.31055395, -0.08323113, -0.0301113 ,\n",
      "         -0.74129189, -0.49550281, -0.29165023,  0.50913257, -0.22393356]])\n"
     ]
    }
   ],
   "source": [
    "model = KMeans(16);\n",
    "model.load_train(trainX);\n",
    "model.compPCA();\n",
    "model.projPCA(50);\n",
    "model.initKMeans();\n",
    "\n",
    "while model.iter<50:\n",
    "    model.sortToClass()\n",
    "    #model.plotPts(0.01, 0, 1)\n",
    "    model.UpdateKmeans()\n",
    "    model.printStatus();"
   ]
  },
  {
   "cell_type": "code",
   "execution_count": null,
   "metadata": {
    "collapsed": true
   },
   "outputs": [],
   "source": []
  },
  {
   "cell_type": "code",
   "execution_count": null,
   "metadata": {
    "collapsed": true
   },
   "outputs": [],
   "source": []
  }
 ],
 "metadata": {
  "kernelspec": {
   "display_name": "Python 2",
   "language": "python",
   "name": "python2"
  },
  "language_info": {
   "codemirror_mode": {
    "name": "ipython",
    "version": 2
   },
   "file_extension": ".py",
   "mimetype": "text/x-python",
   "name": "python",
   "nbconvert_exporter": "python",
   "pygments_lexer": "ipython2",
   "version": "2.7.12"
  }
 },
 "nbformat": 4,
 "nbformat_minor": 1
}
