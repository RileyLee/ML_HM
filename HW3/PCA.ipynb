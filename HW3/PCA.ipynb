{
 "cells": [
  {
   "cell_type": "code",
   "execution_count": 33,
   "metadata": {
    "collapsed": false
   },
   "outputs": [],
   "source": [
    "import numpy as np\n",
    "import matplotlib.pyplot\n",
    "import mnist\n",
    "import scipy\n",
    "import scipy.sparse.linalg\n",
    "import scipy.misc\n",
    "from scipy.sparse import csr_matrix\n",
    "from scipy.sparse import identity\n",
    "from numpy import linalg as LA\n",
    "import pdb"
   ]
  },
  {
   "cell_type": "code",
   "execution_count": 34,
   "metadata": {
    "collapsed": false
   },
   "outputs": [
    {
     "name": "stdout",
     "output_type": "stream",
     "text": [
      "MNIST loaded\n"
     ]
    }
   ],
   "source": [
    "trainX, trainY = mnist.load_mnist(\"training\", None, './MNIST');\n",
    "testX, testY = mnist.load_mnist(\"testing\", None, './MNIST');\n",
    "print(\"MNIST loaded\")"
   ]
  },
  {
   "cell_type": "code",
   "execution_count": 38,
   "metadata": {
    "collapsed": false
   },
   "outputs": [],
   "source": [
    "class PCA:\n",
    "    \n",
    "    def __init__(self):\n",
    "        self.sigma = 0;\n",
    "        \n",
    "        \n",
    "    def load_train(self, trainX):\n",
    "        s = trainX.shape;\n",
    "        self.d = s[1] * s[2] + 1;\n",
    "        self.n = self.d;\n",
    "        self.N = s[0];\n",
    "        self.X = np.reshape(trainX, (self.N, self.d-1));\n",
    "    \n",
    "        self.Y = np.zeros((self.N, 10),dtype=np.float)\n",
    "        print(\"Training data loaded...\")\n",
    "        \n",
    "    def compSigma(self):\n",
    "        self.Sigma = self.X.transpose().dot(self.X);\n",
    "        self.w, self.v = LA.eig(self.Sigma);\n",
    "        print(\"Sigma Computed...\")\n",
    "    \n",
    "    def decompose(self, inNumber, k):\n",
    "        weights = np.zeros(k);\n",
    "        outImage = np.zeros(inNumber.shape);\n",
    "        for i in range(0, k):\n",
    "            weights[i] = inNumber.transpose().dot(np.reshape(self.v[:,i], (784,1)))\n",
    "            outImage += weights[i] * np.reshape(self.v[:,i], (784,1))\n",
    "        return outImage"
   ]
  },
  {
   "cell_type": "code",
   "execution_count": 39,
   "metadata": {
    "collapsed": false
   },
   "outputs": [
    {
     "name": "stdout",
     "output_type": "stream",
     "text": [
      "Training data loaded...\n",
      "Sigma Computed...\n"
     ]
    }
   ],
   "source": [
    "model = PCA();\n",
    "model.load_train(trainX);\n",
    "model.compSigma();"
   ]
  },
  {
   "cell_type": "code",
   "execution_count": 5,
   "metadata": {
    "collapsed": false
   },
   "outputs": [
    {
     "name": "stdout",
     "output_type": "stream",
     "text": [
      "Eigen value 1 : 2285464.24722\n",
      "Eigen value 2 : 263407.846123\n",
      "Eigen value 10 : 74760.9263798\n",
      "Eigen value 30 : 21859.6390056\n",
      "Eigen value 50 : 10220.8324139\n",
      "Sum of eigen values : 5268601.30945\n",
      "Sum of 2 norm : 5268601.30945\n"
     ]
    }
   ],
   "source": [
    "print(\"Eigen value 1 : \" + str(abs(model.w[0])))\n",
    "print(\"Eigen value 2 : \" + str(abs(model.w[1])))\n",
    "print(\"Eigen value 10 : \" + str(abs(model.w[9])))\n",
    "print(\"Eigen value 30 : \" + str(abs(model.w[29])))\n",
    "print(\"Eigen value 50 : \" + str(abs(model.w[49])))\n",
    "print(\"Sum of eigen values : \" + str(np.sum(np.abs(model.w))))\n",
    "print(\"Sum of 2 norm : \" + str(np.sum(np.square(model.X))))"
   ]
  },
  {
   "cell_type": "code",
   "execution_count": 7,
   "metadata": {
    "collapsed": false
   },
   "outputs": [],
   "source": [
    "denom = np.sum(abs(model.w));\n",
    "Y = np.zeros(49);\n",
    "X = range(2,51);\n",
    "for i in range(2,51):\n",
    "    Y[i-2] = 1 - np.sum(abs(model.w[0:i])) / denom;\n",
    "    \n",
    "red_star = matplotlib.pyplot.plot(X, Y, color=\"blue\", hold = True, linewidth=2.0)\n",
    "matplotlib.pyplot.savefig('Fractional Reconstruction Error1', transparent = True)"
   ]
  },
  {
   "cell_type": "code",
   "execution_count": 79,
   "metadata": {
    "collapsed": false
   },
   "outputs": [],
   "source": [
    "# Display the first 10 eigenvectors as images\n",
    "Image = np.zeros((trainX.shape[1], trainX.shape[2]*10));\n",
    "for i in range(0,10):\n",
    "    Image[:, (trainX.shape[2]*i) : (trainX.shape[2]*(i+1))] = np.reshape(model.v[:,i], (trainX.shape[1], trainX.shape[2]))\n",
    "scipy.misc.imsave('Eigen/Eigen.jpg', np.uint8(Image*255 + 127))\n"
   ]
  },
  {
   "cell_type": "code",
   "execution_count": 56,
   "metadata": {
    "collapsed": false
   },
   "outputs": [],
   "source": [
    "ImageSyn = np.zeros((140, 140), dtype=np.uint8)\n",
    "Image = np.zeros((28, 140), dtype=np.uint8)\n",
    "idx = 0;\n",
    "for im in [100, 101, 102, 103, 104]:\n",
    "    data = np.reshape(testX[im,:]*255, (784, 1))\n",
    "    idy = 0;\n",
    "    for i in [2, 5, 10, 20, 50]:\n",
    "        outImage = model.decompose(data, i);\n",
    "        outImage = np.reshape(outImage, (28, 28))\n",
    "        \n",
    "        ImageSyn[(idx*28):(idx*28+28), (idy*28):(idy*28+28)] = np.uint8(np.clip(outImage, 0, 255))\n",
    "        Image[:, (idx*28):(idx*28+28)] = np.uint8(testX[im,:]*255);\n",
    "        \n",
    "        idy += 1;\n",
    "    idx += 1;\n",
    "scipy.misc.imsave('SynImage.jpg', ImageSyn)\n",
    "scipy.misc.imsave('Image.jpg', Image)"
   ]
  },
  {
   "cell_type": "code",
   "execution_count": null,
   "metadata": {
    "collapsed": true
   },
   "outputs": [],
   "source": []
  }
 ],
 "metadata": {
  "kernelspec": {
   "display_name": "Python 2",
   "language": "python",
   "name": "python2"
  },
  "language_info": {
   "codemirror_mode": {
    "name": "ipython",
    "version": 2
   },
   "file_extension": ".py",
   "mimetype": "text/x-python",
   "name": "python",
   "nbconvert_exporter": "python",
   "pygments_lexer": "ipython2",
   "version": "2.7.12"
  }
 },
 "nbformat": 4,
 "nbformat_minor": 1
}
