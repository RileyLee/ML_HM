{
 "cells": [
  {
   "cell_type": "code",
   "execution_count": 1,
   "metadata": {
    "collapsed": true
   },
   "outputs": [],
   "source": [
    "import numpy as np\n",
    "import matplotlib.pyplot\n",
    "import mnist\n",
    "import scipy\n",
    "import scipy.sparse.linalg\n",
    "import scipy.misc\n",
    "from scipy.sparse import csr_matrix\n",
    "from scipy.sparse import identity\n",
    "from scipy.spatial import distance\n",
    "from numpy import linalg as LA\n",
    "from collections import Counter\n",
    "import random\n",
    "import pdb"
   ]
  },
  {
   "cell_type": "code",
   "execution_count": 2,
   "metadata": {
    "collapsed": false
   },
   "outputs": [],
   "source": [
    "#def generateGaussianPts(center, sigma, nums):\n",
    "#    X = np.random.multivariate_normal(center, sigma, nums)\n",
    "#    return X"
   ]
  },
  {
   "cell_type": "code",
   "execution_count": 3,
   "metadata": {
    "collapsed": false
   },
   "outputs": [
    {
     "name": "stdout",
     "output_type": "stream",
     "text": [
      "MNIST loaded\n"
     ]
    }
   ],
   "source": [
    "trainX, trainY = mnist.load_mnist(\"training\", None, './MNIST');\n",
    "testX, testY = mnist.load_mnist(\"testing\", None, './MNIST');\n",
    "#sig = np.zeros((2,2));\n",
    "#sig[0,0] = 0.5\n",
    "#sig[1,1] = 0.5\n",
    "#A = generateGaussianPts([1.0, 1.0], sig, 1000)\n",
    "#B = generateGaussianPts([-1.0, -1.0], sig, 1000)\n",
    "#pdb.set_trace()\n",
    "#trainX = np.concatenate((A, B), axis = 0)\n",
    "#B = generateGaussianPts([-1.0, -0.0], sig, 1000)\n",
    "#trainX = np.concatenate((trainX, B), axis = 0)\n",
    "print(\"MNIST loaded\")"
   ]
  },
  {
   "cell_type": "code",
   "execution_count": 38,
   "metadata": {
    "collapsed": false
   },
   "outputs": [],
   "source": [
    "class KMeans:    \n",
    "    \n",
    "    def __init__(self, k, thresh):\n",
    "        self.sigma = 0;\n",
    "        self.K = k;\n",
    "        self.thresh = thresh\n",
    "        \n",
    "    def load_train(self, trainX, trainY):\n",
    "        s = trainX.shape;\n",
    "        self.n = s[1] * s[2];\n",
    "        #self.n = s[1]\n",
    "        self.N = s[0];\n",
    "        self.oriX = np.reshape(trainX, (self.N, self.n));\n",
    "        self.X = np.asmatrix(self.oriX);\n",
    "        self.d = self.n;\n",
    "        self.Y = trainY\n",
    "        print(\"Training data loaded...\")\n",
    "    \n",
    "    def load_test(self, testX, testY):\n",
    "        self.testN = testX.shape[0];\n",
    "        self.testX = np.asmatrix(np.reshape(testX, (self.testN, self.n)));\n",
    "        self.testY = testY\n",
    "        print(\"Testing data loaded...\")\n",
    "    \n",
    "    def compPCA(self):\n",
    "        self.Sigma = self.oriX.transpose().dot(self.oriX);\n",
    "        self.eigW, self.eigV = LA.eig(self.Sigma);\n",
    "        print(\"PCA Projection Computed...\")\n",
    "    \n",
    "    def projPCA(self, d):\n",
    "        self.d = d;\n",
    "        self.X = np.asmatrix(self.oriX) * np.asmatrix(self.eigV[:, 0:self.d]);\n",
    "        print(\"Convert from \" + str(self.n) + ' dimensions to ' + str(d))\n",
    "    \n",
    "    def sortToClass(self):\n",
    "        self.DistMat = distance.cdist(self.X, self.means, 'sqeuclidean');\n",
    "        self.sortedK = np.argmin(self.DistMat, axis = 1);\n",
    "        self.DistMin = np.min(self.DistMat, axis = 1);\n",
    "        \n",
    "    def UpdateKmeans(self):\n",
    "        #pdb.set_trace()\n",
    "        self.kloss = np.mean(self.DistMin);\n",
    "        for i in range(0,self.K):\n",
    "            temp = np.asmatrix(np.mean(self.X[self.sortedK==i, :], axis=0))\n",
    "            if not np.sum(np.isnan(temp))>0:\n",
    "                self.means[i, :] = temp;\n",
    "            temp = self.Y[self.sortedK==i]\n",
    "            if temp.shape[0]>0:\n",
    "                self.classVal[i] = Counter(temp).most_common(1)[0][0]\n",
    "        self.iter = self.iter + 1\n",
    "        self.iterLoss.append(self.kloss);\n",
    "    \n",
    "    def printStatus(self):\n",
    "        print(\"Processing Iteration \" + str(self.iter));\n",
    "        print(\"\\t Total sum : \" + str(self.iterLoss[self.iter-1]))\n",
    "        \n",
    "    def initKMeans(self):\n",
    "        self.iter = 0;\n",
    "        self.iterLoss = [];\n",
    "        self.kloss = np.zeros(self.K);\n",
    "        self.classVal = np.zeros(self.K);\n",
    "        self.means = np.asmatrix(np.zeros((self.K, self.d)));\n",
    "        for i in range(0, self.K):\n",
    "            idx = np.int(np.floor(random.uniform(0, 1) * self.N));\n",
    "            self.means[i, :] = self.X[idx, :];\n",
    "        t = np.linspace(0, 2 * np.pi, 20)\n",
    "        self.colorSet = np.cos(t)\n",
    "        print(\"Kmeans of \" + str(self.K) + \" classes initiated....\")\n",
    "        \n",
    "    def plotPts(self, percent, axis1, axis2):\n",
    "        n = np.int(1 / percent)\n",
    "        X = np.concatenate((self.X[range(0, self.N-1, n), axis1], self.X[range(0, self.N-1, n), axis2]), axis=1)\n",
    "        color = self.colorSet[self.sortedK[range(0, self.N-1, n)]]\n",
    "        plot = matplotlib.pyplot.scatter(X[:,0],X[:,1],c=color)\n",
    "        #matplotlib.pyplot.show()\n",
    "        matplotlib.pyplot.savefig('foo.png', transparent = True)\n",
    "        \n",
    "    def plotMeans(self):\n",
    "        self.meansplot = np.zeros((28*2, 28*8), dtype=np.double);\n",
    "        noa = np.zeros((16,2));\n",
    "        for i in range(0,16):\n",
    "            noa[i,0] = np.sum(model.sortedK==i);\n",
    "            noa[i,1] = i;\n",
    "        \n",
    "        noa = noa[noa[:,0].argsort()]\n",
    "        \n",
    "        for x in range(0,2):\n",
    "            for y in range(0,8):\n",
    "                self.meansplot[x*28: (x*28+28), (y*28):(y*28+28)] = np.reshape(self.means[noa[np.int(15-(x*2+y)),1],:], (28, 28));\n",
    "        scipy.misc.imsave('Means.jpg', np.uint8(self.meansplot * 255));\n",
    "        \n",
    "    def classify(self):\n",
    "        self.DistMatT = distance.cdist(self.testX, self.means, 'sqeuclidean');\n",
    "        self.classifiedTe = self.classVal[np.argmin(self.DistMatT, axis = 1)];\n",
    "        self.classifiedTr = self.classVal[np.argmin(self.DistMat, axis = 1)];\n",
    "        self.loss01Test = 1 - np.float(np.sum(self.classifiedTe==self.testY)) / np.float(self.testN);\n",
    "        self.loss01Train = 1 - np.float(np.sum(self.classifiedTr==self.Y)) / np.float(self.N);\n",
    "        print(\"Training 0/1 loss : \" + str(self.loss01Train))\n",
    "        print(\"Testing 0/1 loss : \" + str(self.loss01Test))"
   ]
  },
  {
   "cell_type": "code",
   "execution_count": 41,
   "metadata": {
    "collapsed": false
   },
   "outputs": [
    {
     "name": "stdout",
     "output_type": "stream",
     "text": [
      "Training data loaded...\n",
      "Kmeans of 250 classes initiated....\n",
      "Processing Iteration 1\n",
      "\t Total sum : 41.0563331708\n",
      "Processing Iteration 2\n",
      "\t Total sum : 26.609333059\n",
      "Processing Iteration 3\n",
      "\t Total sum : 25.7547726898\n",
      "Processing Iteration 4\n",
      "\t Total sum : 25.4285953022\n",
      "Processing Iteration 5\n",
      "\t Total sum : 25.2521415381\n",
      "Processing Iteration 6\n",
      "\t Total sum : 25.1457914338\n",
      "Processing Iteration 7\n",
      "\t Total sum : 25.0778579038\n",
      "Processing Iteration 8\n",
      "\t Total sum : 25.0307320776\n",
      "Processing Iteration 9\n",
      "\t Total sum : 24.9943469327\n",
      "Processing Iteration 10\n",
      "\t Total sum : 24.9644876189\n",
      "Processing Iteration 11\n",
      "\t Total sum : 24.9403843813\n",
      "Processing Iteration 12\n",
      "\t Total sum : 24.9181700976\n",
      "Processing Iteration 13\n",
      "\t Total sum : 24.8985897658\n",
      "Processing Iteration 14\n",
      "\t Total sum : 24.8813610271\n",
      "Processing Iteration 15\n",
      "\t Total sum : 24.8651435651\n",
      "Processing Iteration 16\n",
      "\t Total sum : 24.8505149007\n",
      "Processing Iteration 17\n",
      "\t Total sum : 24.8377710182\n",
      "Processing Iteration 18\n",
      "\t Total sum : 24.82634486\n",
      "Processing Iteration 19\n",
      "\t Total sum : 24.8161883695\n",
      "Processing Iteration 20\n",
      "\t Total sum : 24.8072279219\n"
     ]
    }
   ],
   "source": [
    "model = KMeans(250, 0.01);\n",
    "model.load_train(trainX, trainY);\n",
    "#model.compPCA();\n",
    "#model.projPCA(50);\n",
    "model.initKMeans();\n",
    "#model.plotMeans()\n",
    "while model.iter < 5 or model.iterLoss[model.iter-2] - model.iterLoss[model.iter-1] > model.thresh:\n",
    "    model.sortToClass()\n",
    "    #model.plotPts(0.1, 0, 1)\n",
    "    model.UpdateKmeans()\n",
    "    model.printStatus();\n",
    "model.plotMeans()"
   ]
  },
  {
   "cell_type": "code",
   "execution_count": 40,
   "metadata": {
    "collapsed": false
   },
   "outputs": [
    {
     "name": "stdout",
     "output_type": "stream",
     "text": [
      "Testing data loaded...\n",
      "Training 0/1 loss : 0.339283333333\n",
      "Testing 0/1 loss : 0.3341\n"
     ]
    }
   ],
   "source": [
    "model.load_test(testX, testY);\n",
    "model.classify();"
   ]
  },
  {
   "cell_type": "code",
   "execution_count": 8,
   "metadata": {
    "collapsed": false
   },
   "outputs": [],
   "source": [
    "red_star = matplotlib.pyplot.plot(range(0,model.iter), model.iterLoss, color=\"blue\", hold = True, linewidth=2.0)\n",
    "matplotlib.pyplot.savefig('Squared Reconstruction Error', transparent = True)\n",
    "model.plotMeans()"
   ]
  },
  {
   "cell_type": "code",
   "execution_count": 9,
   "metadata": {
    "collapsed": false
   },
   "outputs": [],
   "source": [
    "noa = np.zeros(16);\n",
    "for i in range(0,16):\n",
    "    noa[i] = np.sum(model.sortedK==i);\n",
    "\n",
    "noa = np.sort(noa)\n",
    "noa = noa[::-1]\n",
    "matplotlib.pyplot.cla()\n",
    "noa = matplotlib.pyplot.plot(range(1,17), noa, color=\"blue\", hold = True, linewidth=2.0)\n",
    "matplotlib.pyplot.savefig('Number of Assignments', transparent = True)\n",
    "matplotlib.pyplot.title('Number of Assignments')\n",
    "model.plotMeans()"
   ]
  },
  {
   "cell_type": "code",
   "execution_count": null,
   "metadata": {
    "collapsed": true
   },
   "outputs": [],
   "source": []
  }
 ],
 "metadata": {
  "kernelspec": {
   "display_name": "Python 2",
   "language": "python",
   "name": "python2"
  },
  "language_info": {
   "codemirror_mode": {
    "name": "ipython",
    "version": 2
   },
   "file_extension": ".py",
   "mimetype": "text/x-python",
   "name": "python",
   "nbconvert_exporter": "python",
   "pygments_lexer": "ipython2",
   "version": "2.7.12"
  }
 },
 "nbformat": 4,
 "nbformat_minor": 1
}
